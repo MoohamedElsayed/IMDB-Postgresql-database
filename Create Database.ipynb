{
 "cells": [
  {
   "cell_type": "code",
   "execution_count": 1,
   "id": "223ebcd1",
   "metadata": {},
   "outputs": [],
   "source": [
    "import psycopg2\n",
    "import pandas as pd "
   ]
  },
  {
   "cell_type": "markdown",
   "id": "5c44ffd6",
   "metadata": {},
   "source": [
    "##### connecting to the main database"
   ]
  },
  {
   "cell_type": "code",
   "execution_count": 2,
   "id": "fa1649c0",
   "metadata": {},
   "outputs": [
    {
     "name": "stdout",
     "output_type": "stream",
     "text": [
      "Connected to Postgres database succesfully\n"
     ]
    }
   ],
   "source": [
    "try:\n",
    "    conn = psycopg2.connect(\n",
    "        database = \"postgres\",\n",
    "        user = 'postgres',\n",
    "        password = 'password',\n",
    "        host = 'localhost',\n",
    "        port = '5432'\n",
    "    )\n",
    "    conn.set_session(autocommit=True)\n",
    "    print(\"Connected to Postgres database succesfully\")\n",
    "    \n",
    "except psycopg2.Error as e :\n",
    "    print(\"Error: Could not make connection to the Postgres database\")\n",
    "    print(e)"
   ]
  },
  {
   "cell_type": "code",
   "execution_count": 3,
   "id": "ef74c6f7",
   "metadata": {},
   "outputs": [
    {
     "name": "stdout",
     "output_type": "stream",
     "text": [
      "Initialized cursor succesfully\n"
     ]
    }
   ],
   "source": [
    "try :\n",
    "    cur = conn.cursor()\n",
    "    print('Initialized cursor succesfully')\n",
    "except psycopg2.Error as e: \n",
    "    print(\"Error: Could not get curser to the Database\")\n",
    "    print(e)"
   ]
  },
  {
   "cell_type": "markdown",
   "id": "575aef02",
   "metadata": {},
   "source": [
    "###### creating the database"
   ]
  },
  {
   "cell_type": "code",
   "execution_count": 4,
   "id": "7fabdf40",
   "metadata": {},
   "outputs": [
    {
     "name": "stdout",
     "output_type": "stream",
     "text": [
      "Database has been created successfully\n"
     ]
    }
   ],
   "source": [
    "try :\n",
    "    cur.execute('DROP DATABASE IF EXISTS imdb WITH (FORCE)')\n",
    "    cur.execute('CREATE DATABASE imdb')\n",
    "    print('Database has been created successfully')\n",
    "except psycopg2.Error as e:\n",
    "    print(e)\n",
    "    "
   ]
  },
  {
   "cell_type": "code",
   "execution_count": 5,
   "id": "57b57320",
   "metadata": {},
   "outputs": [
    {
     "name": "stdout",
     "output_type": "stream",
     "text": [
      "Connection to the main database closed\n"
     ]
    }
   ],
   "source": [
    "try:\n",
    "    conn.close()\n",
    "    print('Connection to the main database closed')\n",
    "except psycopg2.Error as e:\n",
    "    print(e)"
   ]
  },
  {
   "cell_type": "markdown",
   "id": "dfb11f93",
   "metadata": {},
   "source": [
    "##### connecting to the database we just created"
   ]
  },
  {
   "cell_type": "code",
   "execution_count": 6,
   "id": "c17fe3a2",
   "metadata": {},
   "outputs": [
    {
     "name": "stdout",
     "output_type": "stream",
     "text": [
      "Connected to imdb database succesfully\n"
     ]
    }
   ],
   "source": [
    "try:\n",
    "    conn = psycopg2.connect(\n",
    "        database = \"imdb\",\n",
    "        user = 'postgres',\n",
    "        password = 'password',\n",
    "        host = 'localhost',\n",
    "        port = '5432'\n",
    "    )\n",
    "    conn.set_session(autocommit=True)\n",
    "    print(\"Connected to imdb database succesfully\")\n",
    "    \n",
    "except psycopg2.Error as e :\n",
    "    print(\"Error: Could not make connection to the imdb database\")\n",
    "    print(e)"
   ]
  },
  {
   "cell_type": "code",
   "execution_count": 7,
   "id": "9ecd9932",
   "metadata": {
    "scrolled": true
   },
   "outputs": [
    {
     "name": "stdout",
     "output_type": "stream",
     "text": [
      "Initialized cursor succesfully\n"
     ]
    }
   ],
   "source": [
    "try :\n",
    "    cur = conn.cursor()\n",
    "    print('Initialized cursor succesfully')\n",
    "except psycopg2.Error as e: \n",
    "    print(\"Error: Could not get curser to the Database\")\n",
    "    print(e)\n"
   ]
  },
  {
   "cell_type": "markdown",
   "id": "74fe9be4",
   "metadata": {},
   "source": [
    "##### reading the schema.sql file and executing it to create tables and relations"
   ]
  },
  {
   "cell_type": "code",
   "execution_count": 8,
   "id": "9d478b07",
   "metadata": {},
   "outputs": [
    {
     "name": "stdout",
     "output_type": "stream",
     "text": [
      "Created the schema succesfully\n"
     ]
    }
   ],
   "source": [
    "try:\n",
    "    cur.execute(open('schema.sql','r').read())\n",
    "    print('Created the schema succesfully')\n",
    "except psycopg2.Error as e:\n",
    "    print(e)"
   ]
  },
  {
   "cell_type": "markdown",
   "id": "a1b4f260",
   "metadata": {},
   "source": [
    "##### helper functions to insert data from csv file to the required table \n",
    "##### and show first five rows of it "
   ]
  },
  {
   "cell_type": "code",
   "execution_count": 9,
   "id": "c8d496f5",
   "metadata": {},
   "outputs": [],
   "source": [
    "def insert_into_table(table_name):\n",
    "    with open(table_name+'.csv','r',encoding='utf-8') as f :\n",
    "        next(f)\n",
    "        cur.copy_from(f,table_name,sep=',')\n",
    "        print('Inserted data into {} table successfully'.format(table_name))\n",
    "    \n",
    "def show_5_rows(table_name):\n",
    "    try: \n",
    "        cur.execute(\"SELECT * FROM {} LIMIT 5;\".format(table_name))\n",
    "    except psycopg2.Error as e: \n",
    "        print(\"Error: select *\")\n",
    "        print (e)\n",
    "\n",
    "    data = cur.fetchall()\n",
    "    for row in data:\n",
    "        print(row)"
   ]
  },
  {
   "cell_type": "markdown",
   "id": "225493f1",
   "metadata": {},
   "source": [
    "###### inserting data into contents table "
   ]
  },
  {
   "cell_type": "code",
   "execution_count": 10,
   "id": "760ef239",
   "metadata": {
    "scrolled": true
   },
   "outputs": [
    {
     "data": {
      "text/html": [
       "<div>\n",
       "<style scoped>\n",
       "    .dataframe tbody tr th:only-of-type {\n",
       "        vertical-align: middle;\n",
       "    }\n",
       "\n",
       "    .dataframe tbody tr th {\n",
       "        vertical-align: top;\n",
       "    }\n",
       "\n",
       "    .dataframe thead th {\n",
       "        text-align: right;\n",
       "    }\n",
       "</style>\n",
       "<table border=\"1\" class=\"dataframe\">\n",
       "  <thead>\n",
       "    <tr style=\"text-align: right;\">\n",
       "      <th></th>\n",
       "      <th>content_id</th>\n",
       "      <th>title</th>\n",
       "      <th>description</th>\n",
       "      <th>total_seasons</th>\n",
       "      <th>imdb_score</th>\n",
       "      <th>release_dates</th>\n",
       "      <th>play_time</th>\n",
       "      <th>content_rating</th>\n",
       "      <th>total_episodes</th>\n",
       "      <th>content_type</th>\n",
       "      <th>imdb_link</th>\n",
       "      <th>last_updated</th>\n",
       "      <th>imdb_score_votes</th>\n",
       "      <th>rating_details</th>\n",
       "      <th>languages</th>\n",
       "    </tr>\n",
       "  </thead>\n",
       "  <tbody>\n",
       "    <tr>\n",
       "      <th>0</th>\n",
       "      <td>1</td>\n",
       "      <td>Planet Earth II</td>\n",
       "      <td>David Attenborough returns in this breathtakin...</td>\n",
       "      <td>1</td>\n",
       "      <td>9.6</td>\n",
       "      <td>2016</td>\n",
       "      <td>6h</td>\n",
       "      <td>3</td>\n",
       "      <td>1</td>\n",
       "      <td>3</td>\n",
       "      <td>http://www.imdb.com/title/tt5491994/?pf_rd_m=A...</td>\n",
       "      <td>24:09.0</td>\n",
       "      <td>42150</td>\n",
       "      <td>{'total_votes': 42150, 'females': {'all_votes'...</td>\n",
       "      <td>['English']</td>\n",
       "    </tr>\n",
       "    <tr>\n",
       "      <th>1</th>\n",
       "      <td>2</td>\n",
       "      <td>Planet Earth</td>\n",
       "      <td>Emmy Award-winning, 11 episodes, five years in...</td>\n",
       "      <td>1</td>\n",
       "      <td>9.4</td>\n",
       "      <td>2006</td>\n",
       "      <td>8h 53min</td>\n",
       "      <td>3</td>\n",
       "      <td>1</td>\n",
       "      <td>3</td>\n",
       "      <td>http://www.imdb.com/title/tt0795176/?pf_rd_m=A...</td>\n",
       "      <td>24:12.5</td>\n",
       "      <td>126842</td>\n",
       "      <td>{'total_votes': 126842, 'females': {'all_votes...</td>\n",
       "      <td>['English']</td>\n",
       "    </tr>\n",
       "  </tbody>\n",
       "</table>\n",
       "</div>"
      ],
      "text/plain": [
       "   content_id            title  \\\n",
       "0           1  Planet Earth II   \n",
       "1           2     Planet Earth   \n",
       "\n",
       "                                         description  total_seasons  \\\n",
       "0  David Attenborough returns in this breathtakin...              1   \n",
       "1  Emmy Award-winning, 11 episodes, five years in...              1   \n",
       "\n",
       "   imdb_score release_dates play_time  content_rating  total_episodes  \\\n",
       "0         9.6          2016        6h               3               1   \n",
       "1         9.4          2006  8h 53min               3               1   \n",
       "\n",
       "   content_type                                          imdb_link  \\\n",
       "0             3  http://www.imdb.com/title/tt5491994/?pf_rd_m=A...   \n",
       "1             3  http://www.imdb.com/title/tt0795176/?pf_rd_m=A...   \n",
       "\n",
       "  last_updated  imdb_score_votes  \\\n",
       "0      24:09.0             42150   \n",
       "1      24:12.5            126842   \n",
       "\n",
       "                                      rating_details    languages  \n",
       "0  {'total_votes': 42150, 'females': {'all_votes'...  ['English']  \n",
       "1  {'total_votes': 126842, 'females': {'all_votes...  ['English']  "
      ]
     },
     "execution_count": 10,
     "metadata": {},
     "output_type": "execute_result"
    }
   ],
   "source": [
    "contents_df = pd.read_csv('contents.csv')\n",
    "contents_df.head(2)"
   ]
  },
  {
   "cell_type": "code",
   "execution_count": 11,
   "id": "428bd359",
   "metadata": {},
   "outputs": [],
   "source": [
    "contents_table_insert = (\"\"\"INSERT INTO contents(\n",
    "content_id,\n",
    "title,\n",
    "description,\n",
    "total_seasons,\n",
    "imdb_score,\n",
    "release_dates,\n",
    "play_time ,\n",
    "content_rating ,\n",
    "total_episodes ,\n",
    "content_type ,\n",
    "imdb_link,\n",
    "last_updated,\n",
    "imdb_score_votes,\n",
    "rating_details,\n",
    "languages )\n",
    "VALUES (%s,%s,%s,%s,%s,%s,%s,%s,%s,%s,%s,%s,%s,%s,%s)\n",
    "\"\"\") "
   ]
  },
  {
   "cell_type": "code",
   "execution_count": 12,
   "id": "e8e7c692",
   "metadata": {},
   "outputs": [],
   "source": [
    "for i,row in contents_df.iterrows():\n",
    "    cur.execute(contents_table_insert,list(row))"
   ]
  },
  {
   "cell_type": "code",
   "execution_count": 13,
   "id": "77582a8a",
   "metadata": {},
   "outputs": [
    {
     "name": "stdout",
     "output_type": "stream",
     "text": [
      "(1, 'Planet Earth II', 'David Attenborough returns in this breathtaking documentary showcasing life on Planet Earth.', 1, Decimal('9.6'), '2016', '6h', 3, 1, 3, 'http://www.imdb.com/title/tt5491994/?pf_rd_m=A2FGELUUNOQJNL&pf_rd_p=2398042182&pf_rd_r=0J30GWKBJCBE25N9PV5E&pf_rd_s=center-1&pf_rd_t=15506&pf_rd_i=toptv&ref_=chttvtp_tt_1', '24:09.0', 42150, \"{'total_votes': 42150, 'females': {'all_votes': {'total_votes': 3281, 'rating': 9.7}, 'aged_18_29': {'total_votes': 1807, 'rating': 9.7}, 'aged_under_18': {'total_votes': 24, 'rating': 8.8}, 'aged_30_44': {'total_votes': 868, 'rating': 9.6}, 'aged_over_45': {'total_votes': 222, 'rating': 9.5}}, 'votes_per_ratings': {'3': 59, '2': 89, '8': 2163, '4': 68, '5': 123, '1': 2184, '6': 198, '7': 573, '10': 29740, '9': 6953}, 'all_genders': {'all_votes': {'total_votes': 42150, 'rating': 9.6}, 'aged_18_29': {'total_votes': 16349, 'rating': 9.7}, 'aged_under_18': {'total_votes': 315, 'rating': 9.2}, 'aged_30_44': {'total_votes': 9193, 'rating': 9.6}, 'aged_over_45': {'total_votes': 1647, 'rating': 9.4}}, 'males': {'all_votes': {'total_votes': 26997, 'rating': 9.6}, 'aged_18_29': {'total_votes': 14364, 'rating': 9.7}, 'aged_under_18': {'total_votes': 289, 'rating': 9.2}, 'aged_30_44': {'total_votes': 8223, 'rating': 9.5}, 'aged_over_45': {'total_votes': 1400, 'rating': 9.3}}, 'rating_page_link': 'http://www.imdb.com/title/tt5491994/ratings?ref_=tt_ov_rt'}\", \"['English']\")\n",
      "(2, 'Planet Earth', 'Emmy Award-winning, 11 episodes, five years in the making, the most expensive nature documentary series ever commissioned by the BBC, and the first to be filmed in high definition.', 1, Decimal('9.4'), '2006', '8h 53min', 3, 1, 3, 'http://www.imdb.com/title/tt0795176/?pf_rd_m=A2FGELUUNOQJNL&pf_rd_p=2398042182&pf_rd_r=0J30GWKBJCBE25N9PV5E&pf_rd_s=center-1&pf_rd_t=15506&pf_rd_i=toptv&ref_=chttvtp_tt_3', '24:12.5', 126842, \"{'total_votes': 126842, 'females': {'all_votes': {'total_votes': 12414, 'rating': 9.5}, 'aged_18_29': {'total_votes': 6338, 'rating': 9.5}, 'aged_under_18': {'total_votes': 34, 'rating': 8.8}, 'aged_30_44': {'total_votes': 4463, 'rating': 9.6}, 'aged_over_45': {'total_votes': 1012, 'rating': 9.4}}, 'votes_per_ratings': {'3': 325, '2': 414, '8': 8531, '4': 297, '5': 634, '1': 12075, '6': 956, '7': 2409, '10': 77017, '9': 24184}, 'all_genders': {'all_votes': {'total_votes': 126842, 'rating': 9.4}, 'aged_18_29': {'total_votes': 49488, 'rating': 9.5}, 'aged_under_18': {'total_votes': 324, 'rating': 9.0}, 'aged_30_44': {'total_votes': 40190, 'rating': 9.5}, 'aged_over_45': {'total_votes': 6765, 'rating': 9.3}}, 'males': {'all_votes': {'total_votes': 87969, 'rating': 9.5}, 'aged_18_29': {'total_votes': 42745, 'rating': 9.5}, 'aged_under_18': {'total_votes': 288, 'rating': 9.1}, 'aged_30_44': {'total_votes': 35326, 'rating': 9.5}, 'aged_over_45': {'total_votes': 5650, 'rating': 9.3}}, 'rating_page_link': 'http://www.imdb.com/title/tt0795176/ratings?ref_=tt_ov_rt'}\", \"['English']\")\n",
      "(3, 'Breaking Bad', \"A high school chemistry teacher diagnosed with inoperable lung cancer turns to manufacturing and selling methamphetamine in order to secure his family's future.\", 5, Decimal('9.5'), '2008–2013', '49min', 6, 62, 1, 'http://www.imdb.com/title/tt0903747/?pf_rd_m=A2FGELUUNOQJNL&pf_rd_p=2398042182&pf_rd_r=0J30GWKBJCBE25N9PV5E&pf_rd_s=center-1&pf_rd_t=15506&pf_rd_i=toptv&ref_=chttvtp_tt_5', '24:18.2', 1044059, \"{'total_votes': 1044059, 'females': {'all_votes': {'total_votes': 124208, 'rating': 9.2}, 'aged_18_29': {'total_votes': 61370, 'rating': 9.3}, 'aged_under_18': {'total_votes': 506, 'rating': 9.3}, 'aged_30_44': {'total_votes': 40645, 'rating': 9.2}, 'aged_over_45': {'total_votes': 9704, 'rating': 9.2}}, 'votes_per_ratings': {'3': 2481, '2': 2263, '8': 72996, '4': 3152, '5': 6131, '1': 18947, '6': 10692, '7': 27236, '10': 703273, '9': 196888}, 'all_genders': {'all_votes': {'total_votes': 1044059, 'rating': 9.5}, 'aged_18_29': {'total_votes': 390671, 'rating': 9.5}, 'aged_under_18': {'total_votes': 3781, 'rating': 9.6}, 'aged_30_44': {'total_votes': 267234, 'rating': 9.4}, 'aged_over_45': {'total_votes': 49477, 'rating': 9.3}}, 'males': {'all_votes': {'total_votes': 658270, 'rating': 9.5}, 'aged_18_29': {'total_votes': 325821, 'rating': 9.6}, 'aged_under_18': {'total_votes': 3256, 'rating': 9.7}, 'aged_30_44': {'total_votes': 222783, 'rating': 9.4}, 'aged_over_45': {'total_votes': 38840, 'rating': 9.3}}, 'rating_page_link': 'http://www.imdb.com/title/tt0903747/ratings?ref_=tt_ov_rt'}\", \"['English', 'Spanish']\")\n",
      "(4, 'Rick and Morty', 'An animated series that follows the exploits of a super scientist and his not-so-bright grandson.', 4, Decimal('9.3'), '2013–', '23min', 5, 32, 1, 'http://www.imdb.com/title/tt2861424/?pf_rd_m=A2FGELUUNOQJNL&pf_rd_p=2398042182&pf_rd_r=0J30GWKBJCBE25N9PV5E&pf_rd_s=center-1&pf_rd_t=15506&pf_rd_i=toptv&ref_=chttvtp_tt_7', '24:35.2', 182713, \"{'total_votes': 182713, 'females': {'all_votes': {'total_votes': 15590, 'rating': 9.2}, 'aged_18_29': {'total_votes': 10120, 'rating': 9.2}, 'aged_under_18': {'total_votes': 255, 'rating': 9.3}, 'aged_30_44': {'total_votes': 3093, 'rating': 8.9}, 'aged_over_45': {'total_votes': 496, 'rating': 8.2}}, 'votes_per_ratings': {'3': 435, '2': 455, '8': 15207, '4': 429, '5': 840, '1': 3936, '6': 1511, '7': 4744, '10': 114277, '9': 40879}, 'all_genders': {'all_votes': {'total_votes': 182713, 'rating': 9.3}, 'aged_18_29': {'total_votes': 77690, 'rating': 9.4}, 'aged_under_18': {'total_votes': 2123, 'rating': 9.4}, 'aged_30_44': {'total_votes': 32454, 'rating': 9.2}, 'aged_over_45': {'total_votes': 4166, 'rating': 8.8}}, 'males': {'all_votes': {'total_votes': 113273, 'rating': 9.4}, 'aged_18_29': {'total_votes': 66681, 'rating': 9.4}, 'aged_under_18': {'total_votes': 1855, 'rating': 9.4}, 'aged_30_44': {'total_votes': 28899, 'rating': 9.2}, 'aged_over_45': {'total_votes': 3558, 'rating': 8.8}}, 'rating_page_link': 'http://www.imdb.com/title/tt2861424/ratings?ref_=tt_ov_rt'}\", \"['English']\")\n",
      "(5, 'Cosmos', 'Astronomer Carl Sagan leads us on an engaging guided tour of the various elements and cosmological theories of the universe.', 1, Decimal('9.3'), '1980', '1h', 4, 1, 3, 'http://www.imdb.com/title/tt0081846/?pf_rd_m=A2FGELUUNOQJNL&pf_rd_p=2398042182&pf_rd_r=0J30GWKBJCBE25N9PV5E&pf_rd_s=center-1&pf_rd_t=15506&pf_rd_i=toptv&ref_=chttvtp_tt_9', '24:49.3', 26686, \"{'total_votes': 26686, 'females': {'all_votes': {'total_votes': 1949, 'rating': 9.3}, 'aged_18_29': {'total_votes': 705, 'rating': 9.4}, 'aged_under_18': {'total_votes': 7, 'rating': 8.7}, 'aged_30_44': {'total_votes': 727, 'rating': 9.3}, 'aged_over_45': {'total_votes': 395, 'rating': 9.1}}, 'votes_per_ratings': {'3': 96, '2': 113, '8': 1784, '4': 103, '5': 189, '1': 2322, '6': 275, '7': 698, '10': 16710, '9': 4396}, 'all_genders': {'all_votes': {'total_votes': 26686, 'rating': 9.3}, 'aged_18_29': {'total_votes': 7584, 'rating': 9.2}, 'aged_under_18': {'total_votes': 63, 'rating': 8.0}, 'aged_30_44': {'total_votes': 8614, 'rating': 9.4}, 'aged_over_45': {'total_votes': 3309, 'rating': 9.2}}, 'males': {'all_votes': {'total_votes': 18317, 'rating': 9.3}, 'aged_18_29': {'total_votes': 6808, 'rating': 9.2}, 'aged_under_18': {'total_votes': 55, 'rating': 8.0}, 'aged_30_44': {'total_votes': 7789, 'rating': 9.4}, 'aged_over_45': {'total_votes': 2858, 'rating': 9.2}}, 'rating_page_link': 'http://www.imdb.com/title/tt0081846/ratings?ref_=tt_ov_rt'}\", \"['English']\")\n"
     ]
    }
   ],
   "source": [
    "show_5_rows('contents')"
   ]
  },
  {
   "cell_type": "markdown",
   "id": "ecac3fb4",
   "metadata": {},
   "source": [
    "###### inserting data into episode_list table "
   ]
  },
  {
   "cell_type": "code",
   "execution_count": 14,
   "id": "1638b85f",
   "metadata": {
    "scrolled": true
   },
   "outputs": [
    {
     "data": {
      "text/html": [
       "<div>\n",
       "<style scoped>\n",
       "    .dataframe tbody tr th:only-of-type {\n",
       "        vertical-align: middle;\n",
       "    }\n",
       "\n",
       "    .dataframe tbody tr th {\n",
       "        vertical-align: top;\n",
       "    }\n",
       "\n",
       "    .dataframe thead th {\n",
       "        text-align: right;\n",
       "    }\n",
       "</style>\n",
       "<table border=\"1\" class=\"dataframe\">\n",
       "  <thead>\n",
       "    <tr style=\"text-align: right;\">\n",
       "      <th></th>\n",
       "      <th>episode_id</th>\n",
       "      <th>season_num</th>\n",
       "      <th>episode_name</th>\n",
       "      <th>content_id</th>\n",
       "      <th>release_date</th>\n",
       "      <th>episode_rating</th>\n",
       "      <th>episode_num</th>\n",
       "      <th>description</th>\n",
       "      <th>last_updated</th>\n",
       "      <th>episode_imdb_link</th>\n",
       "      <th>episode_score_votes</th>\n",
       "    </tr>\n",
       "  </thead>\n",
       "  <tbody>\n",
       "    <tr>\n",
       "      <th>0</th>\n",
       "      <td>1</td>\n",
       "      <td>1</td>\n",
       "      <td>Pilot</td>\n",
       "      <td>3</td>\n",
       "      <td>20 Jan. 2008</td>\n",
       "      <td>8.9</td>\n",
       "      <td>1</td>\n",
       "      <td>Diagnosed with terminal lung cancer, chemistry...</td>\n",
       "      <td>2017-12-20 11:24:20.00173</td>\n",
       "      <td>http://www.imdb.com/title/tt0959621/?ref_=ttep...</td>\n",
       "      <td>16425</td>\n",
       "    </tr>\n",
       "    <tr>\n",
       "      <th>1</th>\n",
       "      <td>2</td>\n",
       "      <td>1</td>\n",
       "      <td>Cat's in the Bag...</td>\n",
       "      <td>3</td>\n",
       "      <td>27 Jan. 2008</td>\n",
       "      <td>8.7</td>\n",
       "      <td>2</td>\n",
       "      <td>After their first drug deal goes terribly wron...</td>\n",
       "      <td>2017-12-20 11:24:20.008136</td>\n",
       "      <td>http://www.imdb.com/title/tt1054724/?ref_=ttep...</td>\n",
       "      <td>11251</td>\n",
       "    </tr>\n",
       "  </tbody>\n",
       "</table>\n",
       "</div>"
      ],
      "text/plain": [
       "   episode_id  season_num         episode_name  content_id  release_date  \\\n",
       "0           1           1                Pilot           3  20 Jan. 2008   \n",
       "1           2           1  Cat's in the Bag...           3  27 Jan. 2008   \n",
       "\n",
       "   episode_rating  episode_num  \\\n",
       "0             8.9            1   \n",
       "1             8.7            2   \n",
       "\n",
       "                                         description  \\\n",
       "0  Diagnosed with terminal lung cancer, chemistry...   \n",
       "1  After their first drug deal goes terribly wron...   \n",
       "\n",
       "                 last_updated  \\\n",
       "0   2017-12-20 11:24:20.00173   \n",
       "1  2017-12-20 11:24:20.008136   \n",
       "\n",
       "                                   episode_imdb_link  episode_score_votes  \n",
       "0  http://www.imdb.com/title/tt0959621/?ref_=ttep...                16425  \n",
       "1  http://www.imdb.com/title/tt1054724/?ref_=ttep...                11251  "
      ]
     },
     "execution_count": 14,
     "metadata": {},
     "output_type": "execute_result"
    }
   ],
   "source": [
    "episode_list_df = pd.read_csv('episode_list.csv')\n",
    "episode_list_df.head(2)"
   ]
  },
  {
   "cell_type": "code",
   "execution_count": 15,
   "id": "7a693987",
   "metadata": {},
   "outputs": [],
   "source": [
    "episode_list_table_insert = (\"\"\"INSERT INTO episode_list(\n",
    "episode_id,\n",
    "season_num,\n",
    "episode_name,\n",
    "content_id,\n",
    "release_date,\n",
    "episode_rating ,\n",
    "episode_num,\n",
    "description ,\n",
    "last_updated ,\n",
    "episode_imdb_link ,\n",
    "episode_score_votes)\n",
    "VALUES (%s,%s,%s,%s,%s,%s,%s,%s,%s,%s,%s)\n",
    "\"\"\") "
   ]
  },
  {
   "cell_type": "code",
   "execution_count": 16,
   "id": "8700f644",
   "metadata": {},
   "outputs": [],
   "source": [
    "for i,row in episode_list_df.iterrows():\n",
    "    cur.execute(episode_list_table_insert,list(row))"
   ]
  },
  {
   "cell_type": "code",
   "execution_count": 17,
   "id": "0cc7b083",
   "metadata": {
    "scrolled": true
   },
   "outputs": [
    {
     "name": "stdout",
     "output_type": "stream",
     "text": [
      "(1, 1, 'Pilot', 3, '20 Jan. 2008', Decimal('8.9'), 1, 'Diagnosed with terminal lung cancer, chemistry teacher Walter White teams up with his former student, Jesse Pinkman, to cook and sell crystal meth.', '2017-12-20 11:24:20.00173', 'http://www.imdb.com/title/tt0959621/?ref_=ttep_ep1', 16425)\n",
      "(2, 1, \"Cat's in the Bag...\", 3, '27 Jan. 2008', Decimal('8.7'), 2, \"After their first drug deal goes terribly wrong, Walt and Jesse are forced to deal with a corpse and a prisoner. Meanwhile, Skyler grows suspicious of Walt's activities.\", '2017-12-20 11:24:20.008136', 'http://www.imdb.com/title/tt1054724/?ref_=ttep_ep2', 11251)\n",
      "(3, 1, \"...And the Bag's in the River\", 3, '10 Feb. 2008', Decimal('8.7'), 3, \"Walt is struggling to decide if it's best to kill Krazy-8 or let him go.\", '2017-12-20 11:24:20.014002', 'http://www.imdb.com/title/tt1054725/?ref_=ttep_ep3', 10903)\n",
      "(4, 1, 'Cancer Man', 3, '17 Feb. 2008', Decimal('8.3'), 4, 'Walt tells the rest of his family about his cancer. Jesse tries to make amends with his own parents.', '2017-12-20 11:24:20.01984', 'http://www.imdb.com/title/tt1054726/?ref_=ttep_ep4', 10504)\n",
      "(5, 1, 'Gray Matter', 3, '24 Feb. 2008', Decimal('8.3'), 5, \"Walt rejects everyone who tries to help him with the cancer. Jesse tries his best to create Walt's meth, with the help of an old friend.\", '2017-12-20 11:24:20.025069', 'http://www.imdb.com/title/tt1054727/?ref_=ttep_ep5', 10263)\n"
     ]
    }
   ],
   "source": [
    "show_5_rows('episode_list')"
   ]
  },
  {
   "cell_type": "markdown",
   "id": "ac0f28af",
   "metadata": {},
   "source": [
    "###### inserting data into directors table "
   ]
  },
  {
   "cell_type": "code",
   "execution_count": 18,
   "id": "4c7c5a01",
   "metadata": {},
   "outputs": [
    {
     "data": {
      "text/html": [
       "<div>\n",
       "<style scoped>\n",
       "    .dataframe tbody tr th:only-of-type {\n",
       "        vertical-align: middle;\n",
       "    }\n",
       "\n",
       "    .dataframe tbody tr th {\n",
       "        vertical-align: top;\n",
       "    }\n",
       "\n",
       "    .dataframe thead th {\n",
       "        text-align: right;\n",
       "    }\n",
       "</style>\n",
       "<table border=\"1\" class=\"dataframe\">\n",
       "  <thead>\n",
       "    <tr style=\"text-align: right;\">\n",
       "      <th></th>\n",
       "      <th>director_id</th>\n",
       "      <th>name</th>\n",
       "      <th>last_updated</th>\n",
       "    </tr>\n",
       "  </thead>\n",
       "  <tbody>\n",
       "    <tr>\n",
       "      <th>0</th>\n",
       "      <td>1</td>\n",
       "      <td>David Attenborough</td>\n",
       "      <td>2017-12-20 11:24:08.953526</td>\n",
       "    </tr>\n",
       "    <tr>\n",
       "      <th>1</th>\n",
       "      <td>2</td>\n",
       "      <td>Sigourney Weaver</td>\n",
       "      <td>2017-12-20 11:24:12.492763</td>\n",
       "    </tr>\n",
       "  </tbody>\n",
       "</table>\n",
       "</div>"
      ],
      "text/plain": [
       "   director_id                name                last_updated\n",
       "0            1  David Attenborough  2017-12-20 11:24:08.953526\n",
       "1            2    Sigourney Weaver  2017-12-20 11:24:12.492763"
      ]
     },
     "execution_count": 18,
     "metadata": {},
     "output_type": "execute_result"
    }
   ],
   "source": [
    "directors_df = pd.read_csv('directors.csv')\n",
    "directors_df.head(2)"
   ]
  },
  {
   "cell_type": "code",
   "execution_count": 19,
   "id": "986b8591",
   "metadata": {},
   "outputs": [],
   "source": [
    "directors_table_insert = (\"\"\"INSERT INTO directors(\n",
    "director_id,\n",
    "name,\n",
    "last_updated)\n",
    "VALUES (%s,%s,%s)\n",
    "\"\"\") "
   ]
  },
  {
   "cell_type": "code",
   "execution_count": 20,
   "id": "5a8b49e9",
   "metadata": {},
   "outputs": [],
   "source": [
    "for i,row in directors_df.iterrows():\n",
    "    cur.execute(directors_table_insert,list(row))"
   ]
  },
  {
   "cell_type": "code",
   "execution_count": 21,
   "id": "73fd8e68",
   "metadata": {},
   "outputs": [
    {
     "name": "stdout",
     "output_type": "stream",
     "text": [
      "(1, 'David Attenborough', '2017-12-20 11:24:08.953526')\n",
      "(2, 'Sigourney Weaver', '2017-12-20 11:24:12.492763')\n",
      "(3, 'Huw Cordey', '2017-12-20 11:24:12.492763')\n",
      "(4, 'Vince Gilligan', '2017-12-20 11:24:17.96618')\n",
      "(5, 'High Bridge Productions', '2017-12-20 11:24:17.96618')\n"
     ]
    }
   ],
   "source": [
    "show_5_rows('directors')"
   ]
  },
  {
   "cell_type": "markdown",
   "id": "a3a7b7e7",
   "metadata": {},
   "source": [
    "###### inserting data into actors table "
   ]
  },
  {
   "cell_type": "code",
   "execution_count": 22,
   "id": "5031ca79",
   "metadata": {},
   "outputs": [
    {
     "name": "stdout",
     "output_type": "stream",
     "text": [
      "Inserted data into actors table successfully\n"
     ]
    }
   ],
   "source": [
    "insert_into_table('actors')"
   ]
  },
  {
   "cell_type": "code",
   "execution_count": 23,
   "id": "ba98b4bc",
   "metadata": {},
   "outputs": [
    {
     "name": "stdout",
     "output_type": "stream",
     "text": [
      "(1, '\"David Attenborough\"', '\"2017-12-20 11:24:08.953526\"')\n",
      "(2, '\"Sigourney Weaver\"', '\"2017-12-20 11:24:12.492763\"')\n",
      "(3, '\"Bryan Cranston\"', '\"2017-12-20 11:24:17.96618\"')\n",
      "(4, '\"Anna Gunn\"', '\"2017-12-20 11:24:17.96618\"')\n",
      "(5, '\"Aaron Paul\"', '\"2017-12-20 11:24:17.96618\"')\n"
     ]
    }
   ],
   "source": [
    "show_5_rows('actors')"
   ]
  },
  {
   "cell_type": "markdown",
   "id": "f854397f",
   "metadata": {},
   "source": [
    "###### inserting data into content_actors table "
   ]
  },
  {
   "cell_type": "code",
   "execution_count": 24,
   "id": "4f2c533b",
   "metadata": {},
   "outputs": [
    {
     "name": "stdout",
     "output_type": "stream",
     "text": [
      "Inserted data into content_actors table successfully\n"
     ]
    }
   ],
   "source": [
    "insert_into_table('content_actors')"
   ]
  },
  {
   "cell_type": "code",
   "execution_count": 25,
   "id": "0e54a676",
   "metadata": {},
   "outputs": [
    {
     "name": "stdout",
     "output_type": "stream",
     "text": [
      "(1, 1, '\"2017-12-20 11:24:08.991277\"')\n",
      "(1, 2, '\"2017-12-20 11:24:12.532625\"')\n",
      "(2, 2, '\"2017-12-20 11:24:12.532625\"')\n",
      "(3, 3, '\"2017-12-20 11:24:18.166874\"')\n",
      "(4, 3, '\"2017-12-20 11:24:18.166874\"')\n"
     ]
    }
   ],
   "source": [
    "show_5_rows('content_actors')"
   ]
  },
  {
   "cell_type": "markdown",
   "id": "6846d248",
   "metadata": {},
   "source": [
    "###### inserting data into content_directors table "
   ]
  },
  {
   "cell_type": "code",
   "execution_count": 26,
   "id": "2302471d",
   "metadata": {},
   "outputs": [
    {
     "name": "stdout",
     "output_type": "stream",
     "text": [
      "Inserted data into content_directors table successfully\n"
     ]
    }
   ],
   "source": [
    "insert_into_table('content_directors')"
   ]
  },
  {
   "cell_type": "code",
   "execution_count": 27,
   "id": "3e7eea57",
   "metadata": {},
   "outputs": [
    {
     "name": "stdout",
     "output_type": "stream",
     "text": [
      "(1, 1, '\"2017-12-20 11:24:08.991277\"')\n",
      "(1, 2, '\"2017-12-20 11:24:12.532625\"')\n",
      "(2, 2, '\"2017-12-20 11:24:12.532625\"')\n",
      "(3, 2, '\"2017-12-20 11:24:12.532625\"')\n",
      "(4, 3, '\"2017-12-20 11:24:18.166874\"')\n"
     ]
    }
   ],
   "source": [
    "show_5_rows('content_directors')"
   ]
  },
  {
   "cell_type": "markdown",
   "id": "90e51386",
   "metadata": {},
   "source": [
    "###### inserting data into content_genres table "
   ]
  },
  {
   "cell_type": "code",
   "execution_count": 28,
   "id": "a5266905",
   "metadata": {},
   "outputs": [
    {
     "name": "stdout",
     "output_type": "stream",
     "text": [
      "Inserted data into content_genres table successfully\n"
     ]
    }
   ],
   "source": [
    "insert_into_table('content_genres')"
   ]
  },
  {
   "cell_type": "code",
   "execution_count": 29,
   "id": "47035629",
   "metadata": {},
   "outputs": [
    {
     "name": "stdout",
     "output_type": "stream",
     "text": [
      "(7, 1, '24:09.0')\n",
      "(7, 2, '24:12.5')\n",
      "(6, 3, '24:18.2')\n",
      "(8, 3, '24:18.2')\n",
      "(20, 3, '24:18.2')\n"
     ]
    }
   ],
   "source": [
    "show_5_rows('content_genres')"
   ]
  },
  {
   "cell_type": "markdown",
   "id": "872b5a79",
   "metadata": {},
   "source": [
    "###### inserting data into languages table "
   ]
  },
  {
   "cell_type": "code",
   "execution_count": 30,
   "id": "5e855e17",
   "metadata": {},
   "outputs": [
    {
     "name": "stdout",
     "output_type": "stream",
     "text": [
      "Inserted data into languages table successfully\n"
     ]
    }
   ],
   "source": [
    "insert_into_table('languages')"
   ]
  },
  {
   "cell_type": "code",
   "execution_count": 31,
   "id": "1ed9ee20",
   "metadata": {
    "scrolled": true
   },
   "outputs": [
    {
     "name": "stdout",
     "output_type": "stream",
     "text": [
      "(1, 'English', '24:09.0')\n",
      "(2, 'Spanish', '24:18.0')\n",
      "(3, 'Italian', '24:53.6')\n",
      "(4, 'Russian', '24:53.6')\n",
      "(5, 'Dutch', '42:04.7')\n"
     ]
    }
   ],
   "source": [
    "show_5_rows('languages')"
   ]
  },
  {
   "cell_type": "markdown",
   "id": "a8208db1",
   "metadata": {},
   "source": [
    "##### closing the cursor and connection.\n"
   ]
  },
  {
   "cell_type": "code",
   "execution_count": 32,
   "id": "640d093a",
   "metadata": {},
   "outputs": [],
   "source": [
    "cur.close()\n",
    "conn.close()"
   ]
  },
  {
   "cell_type": "code",
   "execution_count": null,
   "id": "8bfda3b5",
   "metadata": {},
   "outputs": [],
   "source": []
  }
 ],
 "metadata": {
  "kernelspec": {
   "display_name": "Python 3 (ipykernel)",
   "language": "python",
   "name": "python3"
  },
  "language_info": {
   "codemirror_mode": {
    "name": "ipython",
    "version": 3
   },
   "file_extension": ".py",
   "mimetype": "text/x-python",
   "name": "python",
   "nbconvert_exporter": "python",
   "pygments_lexer": "ipython3",
   "version": "3.9.12"
  }
 },
 "nbformat": 4,
 "nbformat_minor": 5
}
